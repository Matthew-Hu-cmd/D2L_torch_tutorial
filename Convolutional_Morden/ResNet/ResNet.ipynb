{
 "cells": [
  {
   "cell_type": "markdown",
   "metadata": {},
   "source": [
    "# 残差网络（ResNet）\n",
    "\n",
    "_随着我们设计越来越深的网络，深刻理解“新添加的层如何提升神经网络的性能”变得至关重要。更重要的是设计网络的能力，在这种网络中，添加层会使网络更具表现力，\n",
    "为了取得质的突破，我们需要一些数学基础知识。_  \n",
    "\n",
    "更大、更深的神经网络可能表征问题的能力更强，但是不总是能够提高模型的精度。  \n",
    "如果我们把网络能够表现的模型看成一个函数，那么也就是说，更大的网络能够表示的所有函数泛函最大。\n",
    "## 函数类\n",
    "\n",
    "首先，假设有一类特定的神经网络架构$\\mathcal{F}$，它包括学习速率和其他超参数设置。\n",
    "对于所有$f \\in \\mathcal{F}$，存在一些参数集（例如权重和偏置），这些参数可以通过在合适的数据集上进行训练而获得。\n",
    "现在假设$f^*$是我们真正想要找到的函数，如果是$f^* \\in \\mathcal{F}$，那我们可以轻而易举的训练得到它，但通常我们不会那么幸运。\n",
    "相反，我们将尝试找到一个函数$f^*_\\mathcal{F}$，这是我们在$\\mathcal{F}$中的最佳选择。\n",
    "例如，给定一个具有$\\mathbf{X}$特性和$\\mathbf{y}$标签的数据集，我们可以尝试通过解决以下优化问题来找到它：\n",
    "\n",
    "$$f^*_\\mathcal{F} := \\mathop{\\mathrm{argmin}}_f L(\\mathbf{X}, \\mathbf{y}, f) \\text{ subject to } f \\in \\mathcal{F}.$$\n"
   ]
  },
  {
   "cell_type": "code",
   "execution_count": null,
   "metadata": {},
   "outputs": [],
   "source": []
  }
 ],
 "metadata": {
  "kernelspec": {
   "display_name": "Python 3.8.10 ('base')",
   "language": "python",
   "name": "python3"
  },
  "language_info": {
   "name": "python",
   "version": "3.8.10"
  },
  "orig_nbformat": 4,
  "vscode": {
   "interpreter": {
    "hash": "2f394aca7ca06fed1e6064aef884364492d7cdda3614a461e02e6407fc40ba69"
   }
  }
 },
 "nbformat": 4,
 "nbformat_minor": 2
}
