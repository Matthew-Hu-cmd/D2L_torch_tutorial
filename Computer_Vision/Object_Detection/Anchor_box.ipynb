{
 "cells": [
  {
   "cell_type": "markdown",
   "metadata": {},
   "source": [
    "# 锚框技术 anchor box  \n",
    "目标检测的一个任务是希望能够把物体处在的位置框选出来，我们会大范围的采样来判断这些区域是否包含我们感兴趣的目标，并调整区域边界，从而更加准确地预测*真实边界框*（ground-truth bounding box）  \n",
    "主流的目标检测算法是基于锚框来实现的：  \n",
    "* 以每个像素为中心，生成多个缩放比和宽高比（aspect ratio）不同的边界框\n",
    "* 预测每个锚框内部是否含有关注的物体  \n",
    "* 如果是，预测这个锚框到真实边缘框的偏移  \n",
    "## IoU-交并比  \n",
    "计算两个锚框之间的相似度，量化方式：  \n",
    "*杰卡德系数*（Jaccard）可以衡量两组之间的相似性。\n",
    "给定集合$\\mathcal{A}$和$\\mathcal{B}$，他们的杰卡德系数是他们交集的大小除以他们并集的大小：\n",
    "\n",
    "$$J(\\mathcal{A},\\mathcal{B}) = \\frac{\\left|\\mathcal{A} \\cap \\mathcal{B}\\right|}{\\left| \\mathcal{A} \\cup \\mathcal{B}\\right|}.$$\n",
    "\n",
    "事实上，我们可以将任何边界框的像素区域视为一组像素。通过这种方式，我们可以通过其像素集的杰卡德系数来测量两个边界框的相似性。\n",
    "对于两个边界框，它们的杰卡德系数通常称为*交并比*（intersection over union，IoU），即两个边界框相交面积与相并面积之比，\n",
    "![交并比是两个边界框相交面积与相并面积之比。](../img/iou.svg)\n",
    "使用交并比来衡量锚框和真实边界框之间、以及不同锚框之间的相似度。\n",
    "给定两个锚框或边界框的列表，以下`box_iou`函数将在这两个列表中计算它们成对的交并比。  \n",
    "## 赋予锚框标号  \n",
    "* 每个锚框是一个训练样本  \n",
    "* 锚框要么是背景要么并联一个真实边缘框  \n",
    "* 我们可能会生成大量的锚框：  \n",
    "    * 导致大量负类样本  "
   ]
  },
  {
   "cell_type": "code",
   "execution_count": null,
   "metadata": {},
   "outputs": [],
   "source": []
  }
 ],
 "metadata": {
  "kernelspec": {
   "display_name": "Python 3.8.10 ('base')",
   "language": "python",
   "name": "python3"
  },
  "language_info": {
   "name": "python",
   "version": "3.8.10"
  },
  "orig_nbformat": 4,
  "vscode": {
   "interpreter": {
    "hash": "2f394aca7ca06fed1e6064aef884364492d7cdda3614a461e02e6407fc40ba69"
   }
  }
 },
 "nbformat": 4,
 "nbformat_minor": 2
}
