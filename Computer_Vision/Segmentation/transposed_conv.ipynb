{
 "cells": [
  {
   "cell_type": "markdown",
   "metadata": {},
   "source": [
    "# 转置卷积transposed convolution  \n",
    "对于像素级别的分割任务：传统的卷积操作、pooling操作会压缩画质，纯粹是不行的，如果输入和输出图像的空间维度相同，在以像素级分类的语义分割中将会很方便  \n",
    "所谓的转置，就是输入中的更小的块-->去对应整个核张量，进行运算。\n",
    "![转置卷积](../img/trans_conv.svg) . \n",
    "转置卷积的会产生多个中间张量，中间张量最终叠加成为输出张量，增加了w，h的数量"
   ]
  },
  {
   "cell_type": "code",
   "execution_count": null,
   "metadata": {},
   "outputs": [],
   "source": [
    "import torch\n",
    "from torch import nn\n",
    "from d2l import torch as d2l"
   ]
  }
 ],
 "metadata": {
  "kernelspec": {
   "display_name": "Python 3.8.10 ('base')",
   "language": "python",
   "name": "python3"
  },
  "language_info": {
   "name": "python",
   "version": "3.8.10"
  },
  "orig_nbformat": 4,
  "vscode": {
   "interpreter": {
    "hash": "2f394aca7ca06fed1e6064aef884364492d7cdda3614a461e02e6407fc40ba69"
   }
  }
 },
 "nbformat": 4,
 "nbformat_minor": 2
}
